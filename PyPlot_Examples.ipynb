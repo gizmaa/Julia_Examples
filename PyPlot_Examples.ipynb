{
 "cells": [
  {
   "cell_type": "markdown",
   "metadata": {
    "collapsed": true
   },
   "source": [
    "# PyPlot Examples\n",
    "by [Gizmaa](https://github.com/gizmaa/Julia_Examples)<br>\n",
    "Last Edited: May 13, 2019<br>\n",
    "Latest [PyPlot_Examples.zip](https://github.com/gizmaa/Julia_Examples/blob/master/PyPlot_Examples.zip)\n",
    "\n",
    "##### Contents\n",
    "\n",
    "<ul>\n",
    "    <li><a href=\"#translating\">Translating</a></li>\n",
    "    <li><a href=\"#importantnotes\">Important Note</a></li>\n",
    "    <li><a href=\"#basicplots\">Basic Plot</a></li>\n",
    "    <li><a href=\"#plotannotation\">Plot Annotation</a></li>\n",
    "    <li><a href=\"#customtime\">Time Customization</a></li>\n",
    "    <li><a href=\"#subplots\">Subplots</a></li>\n",
    "    <li><a href=\"#polarplot\">Polar Plot</a></li>\n",
    "    <li><a href=\"#histogram\">Histogram</a></li>\n",
    "    <li><a href=\"#barplot\">Bar Plot</a></li>\n",
    "    <li><a href=\"#errorbar\">Error Bars</a></li>\n",
    "    <li><a href=\"#inexactplot\">Inexact Plot</a></li>\n",
    "    <li><a href=\"#piechart\">Pie Chart</a></li>\n",
    "    <li><a href=\"#scatterplot\">Scatter Plot</a></li>\n",
    "    <li><a href=\"#boxplot\">Box Plot</a></li>\n",
    "    <li><a href=\"#majorminorticks\">Major-Minor Ticks</a></li>\n",
    "    <li><a href=\"#multiaxis\">Mult-axis Plot</a></li>\n",
    "    <li><a href=\"#axisplacement\">Axis Placement</a></li>\n",
    "    <li><a href=\"#surfacecontour\">Surface and Contour Plots</a></li>\n",
    "    <li><a href=\"#linecollection\">Line Collection</a></li>\n",
    "    <li><a href=\"#brokenAxisSubplot\">Broken Axis Subplot</a></li>\n",
    "</ul>\n",
    "\n",
    "### PyPlot\n",
    "#### Translating<a name=\"translating\"></a>\n",
    " \n",
    "Translating PyPlot code from Python to Julia can be difficult so here are a few examples comparing Python code with its Julia equivalent."
   ]
  },
  {
   "cell_type": "code",
   "execution_count": null,
   "metadata": {
    "collapsed": true
   },
   "outputs": [],
   "source": [
    "# Python\n",
    "ax.set_ylim([-30, 10])\n",
    "ax.spines['right'].set_color('none')\n",
    "ax.spines['top'].set_color('none')"
   ]
  },
  {
   "cell_type": "markdown",
   "metadata": {},
   "source": [
    "Source: [Axis Boundary Color](http://matplotlib.org/examples/showcase/xkcd.html)"
   ]
  },
  {
   "cell_type": "code",
   "execution_count": null,
   "metadata": {
    "collapsed": true
   },
   "outputs": [],
   "source": [
    "# Julia\n",
    "ax.set_ylim([-30,10])\n",
    "ax.spines[\"top\"].set_color(\"none\") # Remove the top axis boundary\n",
    "ax.spines[\"right\"].set_color(\"none\") # Remove the right axis boundary"
   ]
  },
  {
   "cell_type": "markdown",
   "metadata": {},
   "source": [
    "The above example looked at settings of plot components. The next example will call matplotlib itself."
   ]
  },
  {
   "cell_type": "code",
   "execution_count": null,
   "metadata": {
    "collapsed": true
   },
   "outputs": [],
   "source": [
    "# Python\n",
    "from matplotlib.dates import MonthLocator, WeekdayLocator, DateFormatter\n",
    "majorformatter = DateFormatter(\"%d.%m.%Y\")\n",
    "minorformatter = DateFormatter(\"%H:%M\")\n",
    "majorlocator = DayLocator(interval=1)\n",
    "minorlocator = HourLocator(byhour=(8,16)) # Not sure about this one"
   ]
  },
  {
   "cell_type": "markdown",
   "metadata": {},
   "source": [
    "Source: Modified from [this forum post by Nat Wilson](https://groups.google.com/d/msg/julia-users/jIyyRJc6Hho/mSwSCItH3PoJ) and [this matplotlib example](http://matplotlib.org/examples/pylab_examples/date_demo2.html)."
   ]
  },
  {
   "cell_type": "code",
   "execution_count": null,
   "metadata": {
    "collapsed": true
   },
   "outputs": [],
   "source": [
    "# Julia\n",
    "majorformatter = matplotlib.dates.DateFormatter(\"%d.%m.%Y\")\n",
    "minorformatter = matplotlib.dates.DateFormatter(\"%H:%M\")\n",
    "majorlocator = matplotlib.dates.DayLocator(interval=1)\n",
    "minorlocator = matplotlib.dates.HourLocator(byhour=(8, 16))\n",
    "\n",
    "# After an axis exists\n",
    "ax1.xaxis.set_major_formatter(majorformatter)\n",
    "ax1.xaxis.set_minor_formatter(minorformatter)\n",
    "ax1.xaxis.set_major_locator(majorlocator)\n",
    "ax1.xaxis.set_minor_locator(minorlocator)"
   ]
  },
  {
   "cell_type": "markdown",
   "metadata": {},
   "source": [
    "<hr>\n",
    "\n",
    "#### Important Note<a name=\"importantnotes\"></a>\n",
    "The easiest way of doing a quick plot is to simply type it into the REPL (command line) but by default interactive mode might be \"off\". This means that when you create a figure, `figure()`, nothing will appear except for the object type in the REPL, `PyPlot.Figure(PyObject ....` The command `plt[:show]()` will make the figure visible but also make the REPL temporarily unusable until all figures are closed.\n",
    "\n",
    "Changing interactive mode to \"on\" is as simple as running `ion()`. Plots will be visible and the REPL will still be usable. It will only last for the current session though. Add it to the .juliarc.jl file to make it \"on\" by default. It can also be turned \"off\" by running `ioff()`. If IJulia fails to plot inline try adding `gcf()` after the plot.\n",
    "\n",
    "Depending on the editor you are using this may be undesirable. In one mode IJulia may plot inline whereas the other may plot to a window.\n",
    "\n",
    "<hr>\n",
    "\n",
    "#### Basic Plot<a name=\"basicplots\"></a>\n",
    "Most of the basic commands in PyPlot are very similar to Matlab. "
   ]
  },
  {
   "cell_type": "code",
   "execution_count": 2,
   "metadata": {},
   "outputs": [
    {
     "data": {
      "image/png": "[encoded data removed]",
      "text/plain": [
       "Figure(PyObject <matplotlib.figure.Figure object at 0x7f5412c7f550>)"
      ]
     },
     "execution_count": 2,
     "metadata": {},
     "output_type": "execute_result"
    }
   ],
   "source": [
    "using PyPlot\n",
    "ioff() # Interactive plotting OFF, necessary for inline plotting in IJulia\n",
    "x = collect(1:10)\n",
    "y = 10rand(10,1)\n",
    "\n",
    "p = plot(x,y)\n",
    "xlabel(\"X\")\n",
    "ylabel(\"Y\")\n",
    "PyPlot.title(\"Your Title Goes Here\")\n",
    "grid(\"on\")\n",
    "gcf() # Needed by IJulia to display plot"
   ]
  },
  {
   "cell_type": "markdown",
   "metadata": {},
   "source": [
    "The first noticable change is in the plotting command when non-default values are used. "
   ]
  },
  {
   "cell_type": "code",
   "execution_count": null,
   "metadata": {
    "collapsed": true
   },
   "outputs": [],
   "source": [
    "p = plot_date(x,y,linestyle=\"-\",marker=\"None\",label=\"Base Plot\") # Basic line plot"
   ]
  },
  {
   "cell_type": "markdown",
   "metadata": {},
   "source": [
    "Instead of `\"linestyle\",\"-\"` it uses `linestyle=\"-\"` for parameters. \n",
    "\n",
    "<hr>\n",
    "\n",
    "## Plot Annotation<a name=\"plotannotation\"></a>\n",
    "([IJulia](pyplot_annotation.ipynb), [Code](pyplot_annotation.jl))\n",
    "\n",
    "![Annotation Examples](pyplot_annotation.png)\n",
    "\n",
    "The following command will point an arrow at a point and label the arrow."
   ]
  },
  {
   "cell_type": "code",
   "execution_count": null,
   "metadata": {
    "collapsed": true
   },
   "outputs": [],
   "source": [
    "annotate(\"Look, data!\",\n",
    "    xy=[x;y,# Arrow tip\n",
    "    xytext=[x+dx;y+dy], # Text offset from tip\n",
    "    xycoords=\"data\", # Coordinates in in \"data\" units\n",
    "    arrowprops=[\"facecolor\"=>\"black\"]) # Julia dictionary objects are automatically converted to Python object when they pass into a PyPlot function"
   ]
  },
  {
   "cell_type": "markdown",
   "metadata": {},
   "source": [
    "It's important to note that in Python the arrowprops would look like this: `arrowprops=dict(arrowstyle=\"->\")`. Dictionary definitions look like `arrowprops=[\"facecolor\"=>\"black\"]` in Julia.\n",
    "\n",
    "LaTeX can be used by putting an L in front of LaTeX code, `L\"$\\int x = \\frac{x^2}{2} + C$\"`."
   ]
  },
  {
   "cell_type": "code",
   "execution_count": null,
   "metadata": {
    "collapsed": true
   },
   "outputs": [],
   "source": [
    "annotate(L\"$\\int x = \\frac{x^2}{2} + C$\",\n",
    "    xy=[1;0],\n",
    "    xycoords=\"axes fraction\",\n",
    "    xytext=[-10,10],\n",
    "    textcoords=\"offset points\",\n",
    "    fontsize=30.0,\n",
    "    ha=\"right\",\n",
    "    va=\"bottom\")"
   ]
  },
  {
   "cell_type": "markdown",
   "metadata": {},
   "source": [
    "<hr>\n",
    "\n",
    "## Time Customization<a name=\"customtime\"></a>\n",
    "([IJulia](pyplot_customtime.ipynb),[Code](pyplot_customtime.jl))\n",
    "\n",
    "The formatting preparation is accomplished by calling the formatters within Matplotlib."
   ]
  },
  {
   "cell_type": "code",
   "execution_count": null,
   "metadata": {
    "collapsed": true
   },
   "outputs": [],
   "source": [
    "majorformatter = matplotlib.dates.DateFormatter(\"%d.%m.%Y\")\n",
    "minorformatter = matplotlib.dates.DateFormatter(\"%H:%M\")\n",
    "majorlocator = matplotlib.dates.DayLocator(interval=1)\n",
    "minorlocator = matplotlib.dates.HourLocator(byhour=(8, 16))"
   ]
  },
  {
   "cell_type": "markdown",
   "metadata": {},
   "source": [
    "They are then applied to the specific axis, the handle of which is called ax1 in this case."
   ]
  },
  {
   "cell_type": "code",
   "execution_count": null,
   "metadata": {},
   "outputs": [],
   "source": [
    "ax1.xaxis.set_major_formatter(majorformatter)\n",
    "ax1.xaxis.set_minor_formatter(minorformatter)\n",
    "ax1.xaxis.set_major_locator(majorlocator)\n",
    "ax1.xaxis.set_minor_locator(minorlocator)"
   ]
  },
  {
   "cell_type": "markdown",
   "metadata": {},
   "source": [
    "![Custom Time](pyplot_customtime.png)\n",
    "\n",
    "<hr>\n",
    "\n",
    "## Subplots<a name=\"subplots\"></a>\n",
    "([IJulia](pyplot_subplot.ipynb), [Code](pyplot_subplot.jl))\n",
    "\n",
    "`subplot(YXN)`, Y = number of columns, X = number of rows, N = number of axis being created\n",
    "\n",
    "The number, N, of a grid of axes starts in the upper left (1), and goes right then down. The second axis of a 2x2 grid is the upper right axis."
   ]
  },
  {
   "cell_type": "code",
   "execution_count": null,
   "metadata": {
    "collapsed": true
   },
   "outputs": [],
   "source": [
    "subplot(313) # Create the third plot of a 3x1 group of subplots\n",
    "\n",
    "suptitle(\"3x1 Subplot\") # Supe title, title for all subplots combined"
   ]
  },
  {
   "cell_type": "markdown",
   "metadata": {},
   "source": [
    "![2x2 Subplot](pyplot_subplot_mixed.png)\n",
    "\n",
    "![3x1 Subplot](pyplot_subplot_column.png)\n",
    "\n",
    "![3x1 Touching Subplots](pyplot_subplot_touching.png)\n",
    "\n",
    "<hr>\n",
    "\n",
    "## Polar and Windrose Plot<a name=\"polarplot\"></a>\n",
    "([IJulia](pyplot_windrose.ipynb), [Code](pyplot_windrose.jl))"
   ]
  },
  {
   "cell_type": "code",
   "execution_count": null,
   "metadata": {
    "collapsed": true
   },
   "outputs": [],
   "source": [
    "ax = axes(polar=\"true\") # Create a polar axis\n",
    "# Do your plotting\n",
    "\n",
    "# Optional changes\n",
    "ax.set_thetagrids(collect(0:dtheta:360-dtheta)) # Show grid lines from 0 to 360 in increments of dtheta\n",
    "ax.set_theta_zero_location(\"N\") # Set 0 degrees to the top of the plot\n",
    "ax.set_theta_direction(-1) # Switch to clockwise\n",
    "fig.canvas.draw() # Update the figure, required when doing additional modifications"
   ]
  },
  {
   "cell_type": "markdown",
   "metadata": {},
   "source": [
    "![Wind Rose](pyplot_windrose_barplot.png)\n",
    "\n",
    "![Wind Rose - Line](pyplot_windrose_lineplot.png)\n",
    "\n",
    "<hr>\n",
    "\n",
    "## Histogram<a name=\"histogram\"></a>\n",
    "([IJulia](pyplot_histogram.ipynb), [Code](pyplot_histogram.jl))"
   ]
  },
  {
   "cell_type": "code",
   "execution_count": null,
   "metadata": {
    "collapsed": true
   },
   "outputs": [],
   "source": [
    "h = plt.hist(x,nbins) # Histogram, PyPlot.plt required to differentiate with conflicting hist command"
   ]
  },
  {
   "cell_type": "markdown",
   "metadata": {},
   "source": [
    "The PyPlot.plt prefix is required to disambiguate it from the hist command.\n",
    "\n",
    "![Histogram](pyplot_histogram.png)\n",
    "\n",
    "<hr>\n",
    "\n",
    "## Bar Plot<a name=\"barplot\"></a>\n",
    "([IJulia](pyplot_barplot.ipynb), [Code](pyplot_barplot.jl))"
   ]
  },
  {
   "cell_type": "code",
   "execution_count": null,
   "metadata": {
    "collapsed": true
   },
   "outputs": [],
   "source": [
    "b = bar(x,y,color=\"#0f87bf\",align=\"center\",alpha=0.4)"
   ]
  },
  {
   "cell_type": "code",
   "execution_count": null,
   "metadata": {
    "collapsed": true
   },
   "outputs": [],
   "source": [
    "b = barh(x,y,color=\"#0f87bf\",align=\"center\",alpha=0.4)"
   ]
  },
  {
   "cell_type": "markdown",
   "metadata": {},
   "source": [
    "![Bar Plots](pyplot_barplot.png)\n",
    "\n",
    "<hr>\n",
    "\n",
    "## Errorbar Plot<a name=\"errorbar\"></a>\n",
    "([IJulia](pyplot_errorbar.ipynb), [Code](pyplot_errorbar.jl))"
   ]
  },
  {
   "cell_type": "code",
   "execution_count": null,
   "metadata": {
    "collapsed": true
   },
   "outputs": [],
   "source": [
    "errorbar(x, # Original x data points, N values\n",
    "    y, # Original y data points, N values\n",
    "    yerr=errs, # Plus/minus error ranges, Nx2 values\n",
    "    fmt=\"o\") # Format"
   ]
  },
  {
   "cell_type": "markdown",
   "metadata": {},
   "source": [
    "![Error Bars](pyplot_errorbar.png)\n",
    "\n",
    "<hr>\n",
    "\n",
    "## Inexact Plot<a name=\"inexactplot\"></a>\n",
    "([IJulia](pyplot_inexact.ipynb), [Code](pyplot_inexact.jl))\n",
    "\n",
    "The IJulia example does not properly apply all the formatting as the terminal version does."
   ]
  },
  {
   "cell_type": "code",
   "execution_count": null,
   "metadata": {
    "collapsed": true
   },
   "outputs": [],
   "source": [
    "xkcd() # Set to XKCD mode, based on the comic (hand drawn)\n",
    "# Plot everything"
   ]
  },
  {
   "cell_type": "markdown",
   "metadata": {},
   "source": [
    "![Inexact Plot](pyplot_inexact.png)\n",
    "\n",
    "<hr>\n",
    "\n",
    "## Pie Chart<a name=\"piechart\"></a>\n",
    "([IJulia](pyplot_piechart.ipynb), [Code](pyplot_piechart.jl))"
   ]
  },
  {
   "cell_type": "code",
   "execution_count": null,
   "metadata": {
    "collapsed": true
   },
   "outputs": [],
   "source": [
    "p = pie(sizes,\n",
    "    labels=labels,\n",
    "    shadow=true,\n",
    "    startangle=90,\n",
    "    explode=explode,\n",
    "    colors=colors,\n",
    "    autopct=\"%1.1f%%\")"
   ]
  },
  {
   "cell_type": "markdown",
   "metadata": {},
   "source": [
    "![Pie Chart](pyplot_piechart.png)\n",
    "\n",
    "<hr>\n",
    "\n",
    "## Scatter Plot<a name=\"scatterplot\"></a>\n",
    "([IJulia](pyplot_scatterplot.ipynb), [Code](pyplot_scatterplot.jl))"
   ]
  },
  {
   "cell_type": "code",
   "execution_count": null,
   "metadata": {
    "collapsed": true
   },
   "outputs": [],
   "source": [
    "scatter(x,y,s=areas,alpha=0.5)"
   ]
  },
  {
   "cell_type": "markdown",
   "metadata": {},
   "source": [
    "![Scatter Plot](pyplot_scatterplot.png)\n",
    "\n",
    "<hr>\n",
    "\n",
    "## Box Plot<a name=\"boxplot\"></a>\n",
    "([IJulia](pyplot_boxplot.ipynb), [Code](pyplot_boxplot.jl))"
   ]
  },
  {
   "cell_type": "code",
   "execution_count": null,
   "metadata": {
    "collapsed": true
   },
   "outputs": [],
   "source": [
    "boxplot(data, # Each column/cell is one box\n",
    "    notch=true, # Notched center\n",
    "    whis=0.75, # Whisker length as a percent of inner quartile range\n",
    "    widths=0.25, # Width of boxes\n",
    "    vert=false, # Horizontal boxes\n",
    "    sym=\"rs\") # Symbol color and shape (rs = red square)"
   ]
  },
  {
   "cell_type": "markdown",
   "metadata": {},
   "source": [
    "![Box Plot](pyplot_boxplot.png)\n",
    "\n",
    "<hr>\n",
    "\n",
    "## Major and Minor Ticks<a name=\"majorminorticks\"></a>\n",
    "([IJulia](pyplot_majorminor.ipynb), [Code](pyplot_majorminor.jl))"
   ]
  },
  {
   "cell_type": "code",
   "execution_count": null,
   "metadata": {
    "collapsed": true
   },
   "outputs": [],
   "source": [
    "###########################\n",
    "#  Set the tick interval  #\n",
    "###########################\n",
    "Mx = matplotlib.ticker.MultipleLocator(20) # Define interval of major ticks\n",
    "f = matplotlib.ticker.FormatStrFormatter(\"%1.2f\") # Define format of tick labels\n",
    "ax.xaxis.set_major_locator(Mx) # Set interval of major ticks\n",
    "ax.xaxis.set_major_formatter(f) # Set format of tick labels\n",
    "\n",
    "mx = matplotlib.ticker.MultipleLocator(5) # Define interval of minor ticks\n",
    "ax.xaxis.set_minor_locator(mx) # Set interval of minor ticks\n",
    "\n",
    "My = matplotlib.ticker.MultipleLocator(0.5) # Define interval of major ticks\n",
    "ax.yaxis.set_major_locator(My) # Set interval of major ticks\n",
    "\n",
    "my = matplotlib.ticker.MultipleLocator(0.1) # Define interval of minor ticks\n",
    "ax.yaxis.set_minor_locator(my) # Set interval of minor ticks\n",
    "\n",
    "#########################\n",
    "#  Set tick dimensions  #\n",
    "#########################\n",
    "ax.xaxis.set_tick_params(which=\"major\",length=10,width=2)\n",
    "ax.xaxis.set_tick_params(which=\"minor\",length=5,width=2)\n",
    "\n",
    "fig.canvas.draw() # Update the figure"
   ]
  },
  {
   "cell_type": "markdown",
   "metadata": {},
   "source": [
    "![Major and Minor Ticks](pyplot_majorminor.png)\n",
    "\n",
    "<hr>\n",
    "\n",
    "## Multi-axis Plot<a name=\"multiaxis\"></a>\n",
    "([IJulia](pyplot_multiaxis.ipynb), [Code](pyplot_multiaxis.jl))"
   ]
  },
  {
   "cell_type": "code",
   "execution_count": null,
   "metadata": {
    "collapsed": true
   },
   "outputs": [],
   "source": [
    "################\n",
    "#  Other Axes  #\n",
    "################\n",
    "new_position = [0.06;0.06;0.77;0.91] # Position Method 2\n",
    "ax.set_position(new_position) # Position Method 2: Change the size and position of the axis\n",
    "#fig.subplots_adjust(right=0.85) # Position Method 1\n",
    "\n",
    "ax2 = ax.twinx() # Create another axis on top of the current axis\n",
    "font2 = Dict(\"color\"=>\"purple\")\n",
    "ylabel(\"Right Axis\",fontdict=font2)\n",
    "p = plot(x,y2,color=\"purple\",linestyle=\"-\",marker=\"o\",label=\"Second\") # Plot a basic line\n",
    "ax2.set_position(new_position) # Position Method 2\n",
    "setp(ax2.get_yticklabels(),color=\"purple\") # Y Axis font formatting\n",
    "\n",
    "ax3 = ax.twinx() # Create another axis on top of the current axis\n",
    "ax3.spines[\"right\"].set_position((\"axes\",1.12)) # Offset the y-axis label from the axis itself so it doesn't overlap the second axis\n",
    "font3 = Dict(\"color\"=>\"green\")\n",
    "ylabel(\"Far Right Axis\",fontdict=font3)\n",
    "p = plot(x,y3,color=\"green\",linestyle=\"-\",marker=\"o\",label=\"Third\") # Plot a basic line\n",
    "ax3.set_position(new_position) # Position Method 2\n",
    "setp(ax.get_yticklabels(),color=\"green\") # Y Axis font formatting\n",
    "\n",
    "axis(\"tight\")\n",
    "\n",
    "# Enable just the right part of the frame\n",
    "ax3.set_frame_on(true) # Make the entire frame visible\n",
    "ax3.patch.set_visible(false) # Make the patch (background) invisible so it doesn't cover up the other axes' plots\n",
    "ax3.spines[\"top\"].set_visible(false) # Hide the top edge of the axis\n",
    "ax3.spines[\"bottom\"].set_visible(false) # Hide the bottom edge of the axis\n",
    "\n",
    "fig.canvas.draw() # Update the figure"
   ]
  },
  {
   "cell_type": "markdown",
   "metadata": {},
   "source": [
    "![Multi-axis Plot](pyplot_multiaxis.png)\n",
    "\n",
    "<hr>\n",
    "\n",
    "## Axis Placement<a name=\"axisplacement\"></a>\n",
    "([IJulia](pyplot_axis_placement.ipynb), [Code](pyplot_axis_placement.jl))"
   ]
  },
  {
   "cell_type": "code",
   "execution_count": null,
   "metadata": {
    "collapsed": true
   },
   "outputs": [],
   "source": [
    "ax.spines[\"top\"].set_visible(false) # Hide the top edge of the axis\n",
    "ax.spines[\"right\"].set_visible(false) # Hide the right edge of the axis\n",
    "ax.spines[\"left\"].set_position(\"center\") # Move the right axis to the center\n",
    "ax.spines[\"bottom\"].set_position(\"center\") # Most the bottom axis to the center\n",
    "ax.xaxis.set_ticks_position(\"bottom\") # Set the x-ticks to only the bottom\n",
    "ax.yaxis.set_ticks_position(\"left\") # Set the y-ticks to only the left"
   ]
  },
  {
   "cell_type": "code",
   "execution_count": null,
   "metadata": {
    "collapsed": true
   },
   "outputs": [],
   "source": [
    "ax2.spines[\"top\"].set_visible(false) # Hide the top edge of the axis\n",
    "ax2.spines[\"right\"].set_visible(false) # Hide the right edge of the axis\n",
    "ax2.xaxis.set_ticks_position(\"bottom\")\n",
    "ax2.yaxis.set_ticks_position(\"left\")\n",
    "ax2.spines[\"left\"].set_position((\"axes\",-0.03)) # Offset the left scale from the axis\n",
    "ax2.spines[\"bottom\"].set_position((\"axes\",-0.05)) # Offset the bottom scale from the axis"
   ]
  },
  {
   "cell_type": "markdown",
   "metadata": {},
   "source": [
    "![Axis Placement](pyplot_axis_placement.png)\n",
    "\n",
    "<hr>\n",
    "\n",
    "## Surface and Contour Plots<a name=\"surfacecontour\"></a>\n",
    "([IJulia](pyplot_surfaceplot.ipynb), [Code](pyplot_surfaceplot.jl))\n",
    "\n",
    "Thanks to [Daniel Høegh](https://gist.github.com/dhoegh) for providing this example."
   ]
  },
  {
   "cell_type": "code",
   "execution_count": null,
   "metadata": {
    "collapsed": true
   },
   "outputs": [],
   "source": [
    "plot_surface(xgrid, ygrid, z, rstride=2,edgecolors=\"k\", cstride=2, cmap=ColorMap(\"gray\"), alpha=0.8, linewidth=0.25)"
   ]
  },
  {
   "cell_type": "code",
   "execution_count": null,
   "metadata": {
    "collapsed": true
   },
   "outputs": [],
   "source": [
    "contour(xgrid, ygrid, z, colors=\"black\", linewidth=2.0)"
   ]
  },
  {
   "cell_type": "markdown",
   "metadata": {},
   "source": [
    "![Surface and Contour Plots](pyplot_surfaceplot.png)\n",
    "\n",
    "<hr>\n",
    "\n",
    "## Broken Axis Subplot<a name=\"brokenAxisSubplot\"></a>\n",
    "([IJulia](pyplot_brokenAxisSubplot.ipynb), [Code](pyplot_brokenAxisSubplot.jl))\n",
    "\n",
    "Thanks to [Ian Butterworth](https://gist.github.com/ianshmean) for providing this example."
   ]
  },
  {
   "cell_type": "code",
   "execution_count": null,
   "metadata": {},
   "outputs": [],
   "source": [
    "axes_grid1 = pyimport(\"mpl_toolkits.axes_grid1\")"
   ]
  },
  {
   "cell_type": "code",
   "execution_count": null,
   "metadata": {},
   "outputs": [],
   "source": [
    "divider = axes_grid1.make_axes_locatable(ax)\n",
    "ax2 = divider.new_vertical(size=\"100%\", pad=0.1)\n",
    "fig.add_axes(ax2)"
   ]
  },
  {
   "cell_type": "code",
   "execution_count": null,
   "metadata": {},
   "outputs": [],
   "source": [
    "ax.spines[\"top\"].set_visible(false)"
   ]
  },
  {
   "cell_type": "code",
   "execution_count": null,
   "metadata": {},
   "outputs": [],
   "source": [
    "ax2.spines[\"bottom\"].set_visible(false)"
   ]
  },
  {
   "cell_type": "code",
   "execution_count": null,
   "metadata": {},
   "outputs": [],
   "source": [
    "# Upper Line Break Markings\n",
    "d = 0.015  # how big to make the diagonal lines in axes coordinates\n",
    "ax2.plot((-d, +d), (-d, +d), transform=ax2.transAxes, color=\"k\", clip_on=false,linewidth=0.8)        # Left diagonal\n",
    "ax2.plot((1 - d, 1 + d), (-d, +d), transform=ax2.transAxes, color=\"k\", clip_on=false,linewidth=0.8)  # Right diagonal\n",
    "\n",
    "# Lower Line Break Markings\n",
    "ax.plot((-d, +d), (1 - d, 1 + d), transform=ax.transAxes, color=\"k\", clip_on=false,linewidth=0.8)  # Left diagonal\n",
    "ax.plot((1 - d, 1 + d), (1 - d, 1 + d), transform=ax.transAxes, color=\"k\", clip_on=false,linewidth=0.8)  # Right diagonal"
   ]
  },
  {
   "cell_type": "markdown",
   "metadata": {},
   "source": [
    "![Broken Axis Subplot](pyplot_brokenAxisSubplot.png)"
   ]
  },
  {
   "cell_type": "code",
   "execution_count": null,
   "metadata": {},
   "outputs": [],
   "source": []
  }
 ],
 "metadata": {
  "anaconda-cloud": {},
  "kernelspec": {
   "display_name": "Julia 1.1.0",
   "language": "julia",
   "name": "julia-1.1"
  },
  "language_info": {
   "file_extension": ".jl",
   "mimetype": "application/julia",
   "name": "julia",
   "version": "1.1.0"
  }
 },
 "nbformat": 4,
 "nbformat_minor": 1
}
